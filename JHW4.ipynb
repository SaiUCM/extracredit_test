{
 "cells": [
  {
   "cell_type": "raw",
   "id": "ccff8907-ffa4-46fc-bc23-93eda24cbe91",
   "metadata": {},
   "source": [
    "# ASSIGNMENT CONFIG\n",
    "files:\n",
    "    - images/empirical-rule.png"
   ]
  },
  {
   "cell_type": "markdown",
   "id": "c9d94f58-4a62-4265-9a0f-1ef6999d3f44",
   "metadata": {},
   "source": [
    "<h2> Jupyter Homework Week 4 --- Math 032, Summer 2024 </h2>\n",
    "\n",
    "<img src=\"images/empirical-rule.png\" style=\"float: right; width: 30%\">\n",
    "\n",
    "\n",
    "\n",
    "<h2> Simulating means and variances </h2>\n",
    "\n",
    "<h4> Part 1: Introduction </h4>\n",
    "\n",
    "In this notebook, we'll study the normal distribution and learn how to sample from it. We will empirically verify the [68-95-99.7 rule](https://en.wikipedia.org/wiki/68–95–99.7_rule), which states that, if we sample a large number of times from a [normal distribution](https://en.wikipedia.org/wiki/Normal_distribution), we should expect about $68$% of samples to be within *one* standard deviation of the mean, $95$% to be within *two* standard deviations, and $99.7$% to be within *three* standard deviations. Then, we will sample from a standard normal distribution (mean $0$ and variance $1$) to estimate the means and variances of two other distributions that are derived from the normal distribution."
   ]
  },
  {
   "cell_type": "markdown",
   "id": "1a4ddec1-b8f5-48ee-b887-43d446e3a608",
   "metadata": {},
   "source": [
    "<h4> Part 2: Generating data and Calculating Quantiles </h4>\n",
    "\n",
    "To begin, let's use scipy's stats package to find the percentiles (or quantiles) of the standard normal distribution and compare it to the table in our textbook (Table B.1 on page 432)."
   ]
  },
  {
   "cell_type": "code",
   "execution_count": 1,
   "id": "509f8c6c-9126-41b9-b2d8-07693562fe1a",
   "metadata": {},
   "outputs": [],
   "source": [
    "# import the requisite package\n",
    "import numpy as np\n",
    "from scipy.stats import norm"
   ]
  },
  {
   "cell_type": "markdown",
   "id": "58ca5842-aa9a-4704-bcb9-2a3d39c73598",
   "metadata": {},
   "source": [
    "Here is an example of how to use `norm` to compute quantiles:"
   ]
  },
  {
   "cell_type": "code",
   "execution_count": 2,
   "id": "40e89d9b-0e05-486d-914c-b82b7dbd089c",
   "metadata": {},
   "outputs": [
    {
     "name": "stdout",
     "output_type": "stream",
     "text": [
      "95th percentile (quantile): 1.6448536269514722\n",
      "80th percentile (quantile): 0.8416212335729143\n"
     ]
    }
   ],
   "source": [
    "# Define the mean and standard deviation\n",
    "mean = 0\n",
    "std_dev = 1\n",
    "\n",
    "# Create a normal distribution object\n",
    "normal_dist = norm(loc=mean, scale=std_dev)\n",
    "\n",
    "# Calculate quantiles\n",
    "quantile_95 = normal_dist.ppf(0.95)\n",
    "quantile_80 = normal_dist.ppf(0.80)\n",
    "\n",
    "print(\"95th percentile (quantile):\", quantile_95)\n",
    "print(\"80th percentile (quantile):\", quantile_80)"
   ]
  },
  {
   "cell_type": "markdown",
   "id": "d2b49768-0d28-449e-8e4f-ccda58be3ab7",
   "metadata": {},
   "source": [
    "This means that, on the graph above, $95$% of the area is to the left of $x=1.64485$, and $80$% is to the left of $0.8416$. We can also generate samples using the following syntax:"
   ]
  },
  {
   "cell_type": "code",
   "execution_count": 3,
   "id": "da31e91c-fcf8-497b-aa4c-7d7317d9a0f3",
   "metadata": {},
   "outputs": [
    {
     "name": "stdout",
     "output_type": "stream",
     "text": [
      "The first five samples are  [ 0.18313712 -0.75709303 -0.79445668  1.14406146  1.27052271]\n"
     ]
    }
   ],
   "source": [
    "sample_size = 10000\n",
    "samples = normal_dist.rvs(size=sample_size)\n",
    "print(\"The first five samples are \",samples[:5])"
   ]
  },
  {
   "cell_type": "markdown",
   "id": "b68a3042-04ce-4daf-922f-9d136db392c0",
   "metadata": {},
   "source": [
    "Let's continue: we can compute means and variances by directly computing averages."
   ]
  },
  {
   "cell_type": "code",
   "execution_count": 4,
   "id": "d3d9fc77-7672-4a2f-8541-a3f478d9667e",
   "metadata": {},
   "outputs": [
    {
     "name": "stdout",
     "output_type": "stream",
     "text": [
      "The average of our samples is -0.015926105745871194\n",
      "The variance of our samples is 0.9954333496683612\n"
     ]
    }
   ],
   "source": [
    "print(\"The average of our samples is\",samples.mean())\n",
    "print(\"The variance of our samples is\",samples.var())"
   ]
  },
  {
   "cell_type": "markdown",
   "id": "5c49961d-06c0-42f1-b561-e2ac9123e2ac",
   "metadata": {},
   "source": [
    "Notice how close these are to the true values $\\mu = 0$ and $\\sigma^2 = 1$!"
   ]
  },
  {
   "cell_type": "markdown",
   "id": "2c027b79-44af-42fd-a8e9-a1dcbf1ad92c",
   "metadata": {},
   "source": [
    "Let's suppose $Z$ is a *standard normal* random variable, so that $Z$ has pdf\n",
    "\n",
    "$$f(x) = \\frac{1}{\\sqrt{2 \\pi}} e^{-x^2/2}, \\ \\ \\ \\ -\\infty <x < \\infty .$$\n",
    "If we want to calculate exact values of the cumulative distribution function (cdf), we can use `norm.cdf`.  Here are two ways to do this. Note that we have *already defined* `normal_dist` above."
   ]
  },
  {
   "cell_type": "code",
   "execution_count": 5,
   "id": "062ebe4b-7847-4c17-b359-9a4fa9e10dbe",
   "metadata": {},
   "outputs": [
    {
     "name": "stdout",
     "output_type": "stream",
     "text": [
      "0.8413447460685429\n",
      "0.9772181968099877\n"
     ]
    }
   ],
   "source": [
    "# Calculate the probability P(Z <= 1).\n",
    "print(normal_dist.cdf(1))\n",
    "# Calculate the probability P(-4 <= Z <= 2).\n",
    "prob = normal_dist.cdf(2) - normal_dist.cdf(-4)\n",
    "print(prob)"
   ]
  },
  {
   "cell_type": "markdown",
   "id": "38817c1f-0709-4863-af29-eeb3509f5a45",
   "metadata": {},
   "source": [
    "### Part 3: Questions"
   ]
  },
  {
   "cell_type": "markdown",
   "id": "c12e0774-ee54-4daa-8b74-1cd6eee5c059",
   "metadata": {},
   "source": [
    "#### Question 1:  \n",
    "\n",
    "Estimate a threshold $\\alpha$ for which $P(Z \\le \\alpha) = 0.75$ using `normal_dist.ppf`."
   ]
  },
  {
   "cell_type": "raw",
   "id": "65cbfbb9-be40-4cbd-b39a-b4215b92b1da",
   "metadata": {},
   "source": [
    "# BEGIN QUESTION\n",
    "name: q1\n",
    "points: 2\n",
    "export: true"
   ]
  },
  {
   "cell_type": "raw",
   "id": "d74415ad-38f3-4bf7-af33-1695d280c859",
   "metadata": {},
   "source": [
    "# BEGIN SOLUTION"
   ]
  },
  {
   "cell_type": "code",
   "execution_count": 6,
   "id": "95dd6b83-30e0-4574-903a-d7609c26f35a",
   "metadata": {},
   "outputs": [
    {
     "name": "stdout",
     "output_type": "stream",
     "text": [
      "0.6744897501960817\n"
     ]
    }
   ],
   "source": [
    "# Put your answer to question 1 here\n",
    "\n",
    "alpha = normal_dist.ppf(0.75) # SOLUTION\n",
    "print(alpha)"
   ]
  },
  {
   "cell_type": "raw",
   "id": "1739f7cd-4f60-488a-847d-d02112f763d1",
   "metadata": {},
   "source": [
    "# END SOLUTION"
   ]
  },
  {
   "cell_type": "raw",
   "id": "bb175767-0804-4e0c-aeb3-f40d7565bf2e",
   "metadata": {},
   "source": [
    "# BEGIN TESTS"
   ]
  },
  {
   "cell_type": "code",
   "execution_count": 14,
   "id": "393eceb0-a22f-4346-b4d7-099c5837abc5",
   "metadata": {},
   "outputs": [
    {
     "data": {
      "text/plain": [
       "True"
      ]
     },
     "execution_count": 14,
     "metadata": {},
     "output_type": "execute_result"
    }
   ],
   "source": [
    "round(alpha, 4) == 0.6745"
   ]
  },
  {
   "cell_type": "raw",
   "id": "9a4014e4-7f9c-4660-91bc-94494bcb6220",
   "metadata": {},
   "source": [
    "# END TESTS"
   ]
  },
  {
   "cell_type": "raw",
   "id": "551aeb79-aff6-4250-a779-5a4c2d4471d2",
   "metadata": {},
   "source": [
    "# END QUESTION"
   ]
  },
  {
   "cell_type": "markdown",
   "id": "3ba08f0b-493c-4baa-afc4-ff2bb99f61a2",
   "metadata": {},
   "source": [
    "#### Question 2:\n",
    "\n",
    "A standard rule of thumb described above is the [68-95-99.7](https://en.wikipedia.org/wiki/68–95–99.7_rule) rule, which refers to the probabilities of $P(-1 \\le Z \\le 1)$, $P(-2 \\le Z \\le 2)$, and $P(-3 \\le Z \\le 3)$ for a random variable $Z \\sim N(0, 1)$. \n",
    "\n",
    "Calculate these probabilities using the function `norm.cdf`. You can see an example above. Your answer should be *very close* to the true values, because you are not doing any sampling."
   ]
  },
  {
   "cell_type": "raw",
   "id": "54dc5429-9c3b-4591-a542-96d157c07f3b",
   "metadata": {},
   "source": [
    "# BEGIN QUESTION\n",
    "name: q2\n",
    "points: 3\n",
    "export: true"
   ]
  },
  {
   "cell_type": "raw",
   "id": "147bd642-21d0-4b5f-9023-f40a93d90bc8",
   "metadata": {},
   "source": [
    "# BEGIN SOLUTION"
   ]
  },
  {
   "cell_type": "code",
   "execution_count": 15,
   "id": "1a4aafba-c349-455c-bd5b-61294106ec62",
   "metadata": {},
   "outputs": [
    {
     "name": "stdout",
     "output_type": "stream",
     "text": [
      "0.6826894921370859 0.9544997361036416 0.9973002039367398\n"
     ]
    }
   ],
   "source": [
    "# Put your answer to question 2 here\n",
    "\n",
    "prob_within_one = norm.cdf(1)-norm.cdf(-1) # SOLUTION\n",
    "prob_within_two = norm.cdf(2)-norm.cdf(-2) # SOLUTION\n",
    "prob_within_three = norm.cdf(3)-norm.cdf(-3) # SOLUTION\n",
    "\n",
    "print(prob_within_one,prob_within_two,prob_within_three)"
   ]
  },
  {
   "cell_type": "raw",
   "id": "740ab9ab-f6ef-46f2-bb6c-c5a0755ccc00",
   "metadata": {},
   "source": [
    "# END SOLUTION"
   ]
  },
  {
   "cell_type": "raw",
   "id": "ea4ec155-f8ba-46e3-84d4-e4a557c6b49b",
   "metadata": {},
   "source": [
    "# BEGIN TESTS"
   ]
  },
  {
   "cell_type": "code",
   "execution_count": 9,
   "id": "c005f215-c9cf-43aa-8335-3c22e86ce1cc",
   "metadata": {},
   "outputs": [],
   "source": [
    "assert round(prob_within_one,4) == round(norm.cdf(1)-norm.cdf(-1),4)\n",
    "assert round(prob_within_two,4) == round(norm.cdf(2)-norm.cdf(-2),4)\n",
    "assert round(prob_within_three,4) == round(norm.cdf(3)-norm.cdf(-3),4)"
   ]
  },
  {
   "cell_type": "raw",
   "id": "4ea8213b-749b-4d6a-9af4-c17d253cfe8b",
   "metadata": {},
   "source": [
    "# END TESTS"
   ]
  },
  {
   "cell_type": "raw",
   "id": "85c378ef-1d03-4f22-933b-a5a24948da73",
   "metadata": {},
   "source": [
    "# END QUESTION"
   ]
  },
  {
   "cell_type": "markdown",
   "id": "5c8544f4-c4f8-4e1c-b34b-2a96a16fc467",
   "metadata": {},
   "source": [
    "#### Question 3:\n",
    "\n",
    "Many important distributions arise by *applying a function* to normally distributed data. Two of these are the  [chi-squared distribution](https://en.wikipedia.org/wiki/Chi-squared_distribution), which is of the form $X_1^2+X_2^2+...+X_n^2$, where the $X_i$ are normally distributed, and the [folded normal distribution](https://en.wikipedia.org/wiki/Folded_normal_distribution), which is the absolute value $|Z|$ of a standard normal random variable.\n",
    "\n",
    "Suppose $Z$ is standard normal and let $X = Z^2$, $Y=|Z|$. **Estimate the mean and variance** of $X$ and $Y$ *by sampling* from a standard normal distribution. You can use `np.random.normal()` to create samples of $Z$."
   ]
  },
  {
   "cell_type": "raw",
   "id": "6afb8ab3-c17c-47dc-a75a-3e97cf366c8f",
   "metadata": {},
   "source": [
    "# BEGIN QUESTION\n",
    "name: q3\n",
    "points: 4\n",
    "export: true"
   ]
  },
  {
   "cell_type": "raw",
   "id": "e26f84a9-ec04-4fe4-91d8-2f0ee9bb9395",
   "metadata": {},
   "source": [
    "# BEGIN SOLUTION"
   ]
  },
  {
   "cell_type": "code",
   "execution_count": 10,
   "id": "a5da3cd0-a305-491a-a76f-c7bfe06fc7f3",
   "metadata": {},
   "outputs": [
    {
     "name": "stdout",
     "output_type": "stream",
     "text": [
      "The chi squared distribution has mean and variance:  (0.9947804212159971, 1.9933211377595865)\n",
      "The folded normal distribution has mean and variance:  (0.7976654912848884, 0.36214452736924946)\n"
     ]
    }
   ],
   "source": [
    "# Put your answer to question 3 here\n",
    "\n",
    "def estimate_mean_and_variance_X():\n",
    "    # sample chi_squared and return the sample mean and variance\n",
    "    # Take a large number of samples (e.g. 100000)\n",
    "    num_samples = 100000 # SOLUTION\n",
    "    # Sample From a Standard Normal Distribution\n",
    "    Z = np.random.normal(size = num_samples) # SOLUTION\n",
    "    # Create samples of chi-square from normal_samples\n",
    "    X = Z**2 # SOLUTION\n",
    "    return X.mean(),X.var()\n",
    "\n",
    "def estimate_mean_and_variance_Y():\n",
    "    # sample from folded normal and return the sample mean and variance\n",
    "    # Take a large number of samples (e.g. 100000)\n",
    "    num_samples = 100000 # SOLUTION\n",
    "    # Sample From a Standard Normal Distribution\n",
    "    Z = np.random.normal(size = num_samples) # SOLUTION\n",
    "    # Create samples of folded normal\n",
    "    Y = abs(Z) # SOLUTION\n",
    "    return Y.mean(),Y.var()\n",
    "\n",
    "\n",
    "print(\"The chi squared distribution has mean and variance: \",estimate_mean_and_variance_X())\n",
    "print(\"The folded normal distribution has mean and variance: \",estimate_mean_and_variance_Y())"
   ]
  },
  {
   "cell_type": "raw",
   "id": "7532525e-9a23-4a3f-b312-5c6861318f06",
   "metadata": {},
   "source": [
    "# END SOLUTION"
   ]
  },
  {
   "cell_type": "raw",
   "id": "88cdf845-9417-4c36-b690-424865a4bda2",
   "metadata": {},
   "source": [
    "# BEGIN TESTS"
   ]
  },
  {
   "cell_type": "code",
   "execution_count": 11,
   "id": "9a798bea-f33d-4a9f-a064-daebe92b7547",
   "metadata": {},
   "outputs": [],
   "source": [
    "samples1 = [estimate_mean_and_variance_X() for _ in range(100)]\n",
    "samples2 = [estimate_mean_and_variance_Y() for _ in range(100)]\n",
    "means1 = sum([m[0] for m in samples1])/100\n",
    "means2 = sum([m[0] for m in samples2])/100\n",
    "var1 = sum([m[1] for m in samples1])/100\n",
    "var2 = sum([m[1] for m in samples2])/100\n",
    "assert abs(1 - round(means1,3)) <= 0.05\n",
    "assert abs(2 - round(var1,3)) <= 0.05\n",
    "assert abs(np.sqrt(2/np.pi) - round(means2,3)) <= 0.05\n",
    "assert abs(1-2/np.pi - round(var2,3)) <= 0.05"
   ]
  },
  {
   "cell_type": "raw",
   "id": "63b3a0f3-e30f-4f48-8783-e408925d18b6",
   "metadata": {},
   "source": [
    "# END TESTS"
   ]
  },
  {
   "cell_type": "raw",
   "id": "f8df9349-0d4a-4fb3-87f2-9d2cd91f3b9e",
   "metadata": {},
   "source": [
    "# END QUESTION"
   ]
  }
 ],
 "metadata": {
  "kernelspec": {
   "display_name": "Python 3 (ipykernel)",
   "language": "python",
   "name": "python3"
  },
  "language_info": {
   "codemirror_mode": {
    "name": "ipython",
    "version": 3
   },
   "file_extension": ".py",
   "mimetype": "text/x-python",
   "name": "python",
   "nbconvert_exporter": "python",
   "pygments_lexer": "ipython3",
   "version": "3.11.8"
  }
 },
 "nbformat": 4,
 "nbformat_minor": 5
}
